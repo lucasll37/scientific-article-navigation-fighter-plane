{
 "cells": [
  {
   "cell_type": "markdown",
   "id": "0b2860c6",
   "metadata": {},
   "source": [
    "# Operações de Simulação com o Servidor ASA\n",
    "\n",
    "Este notebook detalha operações essenciais realizadas em simulações com o servidor ASA, incluindo autenticação, manipulação de simulações e aliases, criação de Design of Experiments (DOE), listagem de métricas, execução de lotes e recuperação de lotes.\n",
    "\n",
    "Índice:\n",
    "1. [Login e Autenticação](#login)\n",
    "2. [Carregando e Salvando Simulações](#carregando_simulacoes)\n",
    "3. [Listagem de Aliases](#listagem_aliases)\n",
    "4. [Edição dos Aliases](#edicao_aliases)\n",
    "5. [Criando Design de Experimentos (DOE)](#criando_doe)\n",
    "6. [Listando Métricas](#listando_metricas)\n",
    "7. [Executando um Lote com Parada Automática e Barra de Progresso](#executando_lote)\n",
    "8. [Recuperando um Lote de Execuções](#recuperando_lote)"
   ]
  },
  {
   "cell_type": "markdown",
   "id": "f8e64271",
   "metadata": {},
   "source": [
    "Esta célula importa todos os módulos necessários para execução e análise das simulações."
   ]
  },
  {
   "cell_type": "code",
   "execution_count": null,
   "id": "718a13c7",
   "metadata": {},
   "outputs": [],
   "source": [
    "import asapy  # Fornece vinculações Python para a API AsaPy\n",
    "import asaclient # O módulo 'asaclient' é usado para estabelecer uma interface de cliente Python com o servidor Asa."
   ]
  },
  {
   "cell_type": "markdown",
   "id": "c08214c1",
   "metadata": {},
   "source": [
    "## Login e Autenticação <a name=\"login\"></a>\n",
    "\n",
    "A primeira etapa envolve login e autenticação, necessários para o usuário acessar o sistema. Inicializamos uma instância da classe `ASA` do módulo `asaclient`, definindo o parâmetro do servidor para a URL especificada. Esta ação estabelece uma conexão com o Servidor ASA."
   ]
  },
  {
   "cell_type": "code",
   "execution_count": null,
   "id": "d5fc8615",
   "metadata": {},
   "outputs": [],
   "source": [
    "asa = asaclient.ASA(server=\"https://service.asa.dcta.mil.br\")"
   ]
  },
  {
   "cell_type": "markdown",
   "id": "dea405dd",
   "metadata": {},
   "source": [
    "\n",
    "## Carregando e Salvando Simulações <a name=\"carregando_simulacoes\"></a>\n",
    "\n",
    "Nesta seção, carregamos manualmente uma simulação a partir de um arquivo JSON. Este processo envolve abrir o arquivo JSON, carregar seu conteúdo em um dicionário Python e usar esses dados para instanciar um objeto de simulação."
   ]
  },
  {
   "cell_type": "code",
   "execution_count": null,
   "id": "e545a832",
   "metadata": {},
   "outputs": [],
   "source": [
    "simulation_name = \"nav_demo\"\n",
    "sim = asapy.load_simulation(f\"./simulations/nav_demo.json\")  # Creating a Simulation from the JSON file at the specified path, and assigning it to 'sim'.\n",
    "sim = asa.save_simulation(sim)\n",
    "sim"
   ]
  },
  {
   "cell_type": "markdown",
   "id": "5b7cbd08",
   "metadata": {
    "tags": []
   },
   "source": [
    "## Listagem de Aliases <a name=\"listagem_aliases\"></a>\n",
    "\n",
    "Esta seção envolve a enumeração de todos os aliases presentes em uma simulação.\n",
    "\n",
    "Primeiro instanciamos um objeto da classe ``Doe`` (Design of Experiments). Em seguida, processamos os aliases (parâmetros utilizados nas simulações) para a simulação escolhida ``sim``, usando o método ``process_aliases_by_sim`` e passando as configurações dos componentes do servidor ASA. Os aliases processados são armazenados na variável ``aliases`` e exibidos. A função ``asa.component_configs()`` retorna uma lista de configurações de componentes. Essa informação é crucial para entender os números padrão, mínimo e máximo de componentes em um determinado cenário."
   ]
  },
  {
   "cell_type": "code",
   "execution_count": null,
   "id": "a5d400b1",
   "metadata": {},
   "outputs": [],
   "source": [
    "doe = asapy.Doe()\n",
    "aliases = doe.process_aliases_by_sim(sim, asa.component_configs()) \n",
    "aliases"
   ]
  },
  {
   "cell_type": "markdown",
   "id": "144b88e0",
   "metadata": {},
   "source": [
    "## Edição dos Aliases <a name=\"edicao_aliases\"></a>\n",
    "\n",
    "Esta seção permite que os usuários modifiquem os parâmetros dos aliases listados para atender às suas necessidades específicas.\n",
    "\n",
    "Esta operação ilustra como você pode ajustar manualmente o intervalo de um parâmetro de alias dentro do seu Design de Experimentos. Após o ajuste, o DataFrame 'aliases' atualizado é exibido."
   ]
  },
  {
   "cell_type": "code",
   "execution_count": null,
   "id": "3ae77707",
   "metadata": {},
   "outputs": [],
   "source": [
    "aliases.loc['hold_speed_kt','min'] = 100\n",
    "aliases.loc['hold_speed_kt','max'] = 500\n",
    "aliases.loc['hold_altitude_ft','min'] = 1000\n",
    "aliases.loc['hold_altitude_ft','max'] = 10000\n",
    "aliases"
   ]
  },
  {
   "cell_type": "markdown",
   "id": "4ee4284d",
   "metadata": {
    "tags": []
   },
   "source": [
    "## Criando Design de Experimentos (DOE) <a name=\"criando_doe\"></a>\n",
    "\n",
    "Os usuários têm a capacidade de estabelecer um DOE, que lhes permite planejar, conduzir e analisar um conjunto de experimentos de maneira sistemática.\n",
    "\n",
    "Nesta célula, estamos usando o método 'create' do objeto 'Doe' para gerar uma tabela de Design de Experimentos (DOE). O método recebe como argumentos os aliases processados anteriormente e o número de amostras. O DOE resultante é um DataFrame do pandas, que é armazenado na variável 'df' e então exibido.\n",
    "O DOE é criado usando um método de Amostragem de Hipercubo Latino (LHS) e um tamanho de amostra samples. A função retorna um novo DataFrame com os nomes e valores das variáveis de entrada de acordo com o seu tipo."
   ]
  },
  {
   "cell_type": "code",
   "execution_count": null,
   "id": "0dad990c",
   "metadata": {},
   "outputs": [],
   "source": [
    "df = doe.create(aliases, samples=1000, seed=101)\n",
    "df"
   ]
  },
  {
   "cell_type": "markdown",
   "id": "d04caa9f",
   "metadata": {},
   "source": [
    "## Listando Métricas <a name=\"listando_metricas\"></a>\n",
    "\n",
    "Esta etapa envolve a geração de uma lista de todas as métricas usadas em uma simulação.\n",
    "\n",
    "O seguinte segmento de código recupera e processa as métricas associadas à simulação ``sim``. O método ``process_metrics`` do objeto ``Doe`` é usado para obter um DataFrame, ``metrics_df``, contendo os dados das métricas. A linha de código subsequente seleciona a linha rotulada como ``Team_Metrics_Blue`` do DataFrame e recupera as métricas correspondentes usando a coluna ``metrics``."
   ]
  },
  {
   "cell_type": "code",
   "execution_count": null,
   "id": "412525b3",
   "metadata": {},
   "outputs": [],
   "source": [
    "metrics_df = doe.process_metrics(sim)\n",
    "metrics_df"
   ]
  },
  {
   "cell_type": "markdown",
   "id": "5f0e2238-5f6a-4456-8e89-9f48be0894c0",
   "metadata": {},
   "source": [
    "Inspecionando especificando as métricas do time `blue`"
   ]
  },
  {
   "cell_type": "code",
   "execution_count": null,
   "id": "58ccc1aa-3313-407a-9e4f-44f4fb6219fd",
   "metadata": {},
   "outputs": [],
   "source": [
    "print(metrics_df.loc['Team_Metrics_Blue']['metrics'])"
   ]
  },
  {
   "cell_type": "markdown",
   "id": "b4099e44",
   "metadata": {},
   "source": [
    "A variável `metric` é atribuída ao valor da string `acft_standing`, representando uma métrica específica de interesse no contexto da análise. Esta métrica será importante ao implementar o recurso de parada automática durante a execução em lote.\n"
   ]
  },
  {
   "cell_type": "code",
   "execution_count": null,
   "id": "a4d3a3e8",
   "metadata": {},
   "outputs": [],
   "source": [
    "metric = 'acft_standing' \n",
    "side= 'blue'"
   ]
  },
  {
   "cell_type": "markdown",
   "id": "2df8e360",
   "metadata": {},
   "source": [
    "## Executando um Lote com Parada Automática e Barra de Progresso <a name=\"executando_lote\"></a>\n",
    "\n",
    "Este recurso permite aos usuários executar um processo em lote e uma barra de progresso para acompanhar visualmente sua conclusão.\n",
    "\n",
    "O lote está associado à simulação identificada por ``sim.id``. Após sua criação, ele é enviado para o sistema para posterior processamento e eventual execução.\n",
    "\n",
    "Os códigos a seguir inicializa um objeto `ExecutionController` chamado `ec`. O parâmetro `sim_func` é definido como `asapy.batch_simulate(batch=batch)`, que especifica a função responsável pela execução da simulação em lote.\n",
    "\n",
    "`asa::recorder::AsaMonitorReport` traz os relatórios de monitoramento para a simulação, ou seja, as métricas utilizadas para controlar a execução do lote estão listadas.\n",
    "\n",
    "O parâmetro `stop_func` é definido como `asapy.stop_func(metric=metric, threshold=0.001)`, que indica a função a ser usada para parar a execução com base em uma métrica e um limite especificados.\n",
    "\n",
    "O parâmetro `chunk_size` determina o tamanho de cada pedaço de simulações a ser executado simultaneamente."
   ]
  },
  {
   "cell_type": "code",
   "execution_count": null,
   "id": "3e0b7f08",
   "metadata": {},
   "outputs": [],
   "source": [
    "batch = asaclient.Batch(label=simulation_name, simulation_id=sim.id)\n",
    "batch = asa.save_batch(batch)\n",
    "print(f\"Batch criado: {batch.id}\")\n",
    "ec = asapy.ExecutionController(sim_func=asapy.batch_simulate(batch=batch), stop_func=asapy.stop_func(metric=metric, threshold=0.001, side=side), chunk_size=3)"
   ]
  },
  {
   "cell_type": "markdown",
   "id": "ad9e02ce",
   "metadata": {},
   "source": [
    "O método `run` do objeto `ec` é executado, passando o DataFrame `df` os com aliases. O resultado da execução é armazenado na variável `results`."
   ]
  },
  {
   "cell_type": "code",
   "execution_count": null,
   "id": "dc27f4c8",
   "metadata": {},
   "outputs": [],
   "source": [
    "results = ec.run(doe=df)"
   ]
  },
  {
   "cell_type": "code",
   "execution_count": null,
   "id": "20720822",
   "metadata": {},
   "outputs": [],
   "source": [
    "results"
   ]
  },
  {
   "cell_type": "markdown",
   "id": "3408ab76",
   "metadata": {},
   "source": [
    "## Recuperando um Lote de Execuções <a name=\"recuperando_lote\"></a>\n",
    "\n",
    "Após a conclusão do processo em lote, os usuários podem recuperá-lo para análise. Nesta seção, salvamos os aliases e os resultados das simulações para análises futuras."
   ]
  },
  {
   "cell_type": "code",
   "execution_count": null,
   "id": "b1bddd97",
   "metadata": {},
   "outputs": [],
   "source": [
    "import os\n",
    "\n",
    "# Create 'results' directory if it doesn't exist\n",
    "if not os.path.exists('results'):\n",
    "    os.makedirs('results')\n",
    "\n",
    "# Save the DataFrames to CSV files in the 'results' directory\n",
    "df.to_csv(f'./results/{simulation_name}_batch_{batch.id}_aliases.csv', index=False)\n",
    "results.to_csv(f\"./results/{simulation_name}_batch_{batch.id}.csv\", index=False)"
   ]
  }
 ],
 "metadata": {
  "kernelspec": {
   "display_name": "Python 3 (ipykernel)",
   "language": "python",
   "name": "python3"
  },
  "language_info": {
   "codemirror_mode": {
    "name": "ipython",
    "version": 3
   },
   "file_extension": ".py",
   "mimetype": "text/x-python",
   "name": "python",
   "nbconvert_exporter": "python",
   "pygments_lexer": "ipython3",
   "version": "3.9.0"
  }
 },
 "nbformat": 4,
 "nbformat_minor": 5
}
