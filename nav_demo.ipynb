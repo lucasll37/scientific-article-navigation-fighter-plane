{
 "cells": [
  {
   "cell_type": "code",
   "execution_count": 1,
   "id": "7f0b46d3",
   "metadata": {},
   "outputs": [],
   "source": [
    "import pandas as pd\n",
    "import matplotlib.pyplot as plt\n",
    "import seaborn as sns\n",
    "import asapy\n",
    "import numpy as np\n",
    "from time import time"
   ]
  },
  {
   "cell_type": "markdown",
   "id": "4f8d0817",
   "metadata": {},
   "source": [
    "# Cenário: Demonstração de Navegação com Aeronave de Caça\n",
    "\n",
    "### Descrição Geral:\n",
    "Este cenário descreve um voo de navegação realizado por uma aeronave de caça, enfocando a execução de manobras em diferentes altitudes e velocidades. A navegação abrange uma variação de altitude entre Flight Level (FL) 100 e FL 350, bem como uma variação de velocidade entre 350 knots e 550 knots. Durante este voo, no terceiro ponto da rota, a aeronave realizará uma manobra de espera em torno de um ponto específico (**Hold**) durante 10 minutos, integrando-a ao padrão de voo.\n",
    "\n",
    "<img src='./data/nav_demo.gif' width='500' height='500'>"
   ]
  },
  {
   "cell_type": "markdown",
   "id": "396bbe06",
   "metadata": {},
   "source": [
    "#### Carregando Dados das Simulações\n",
    "\n",
    "Nesta célula, estamos carregando dados de diferentes simulações a partir de arquivos CSV. Para cada cenário, existem dois tipos de arquivos:\n",
    "\n",
    "1. Arquivos `*_aliases.csv`: Estes contêm as entradas (ou parâmetros) para cada simulação.\n",
    "\n",
    "2. Arquivos `*_output.csv`: Estes contêm os resultados das simulações. \n",
    "\n",
    "Os dados são lidos e carregados em DataFrames do pandas para análise e processamento subsequentes.\n"
   ]
  },
  {
   "cell_type": "code",
   "execution_count": 2,
   "id": "e545a832",
   "metadata": {},
   "outputs": [],
   "source": [
    "x = pd.read_csv('./data/nav_demo_aliases.csv')\n",
    "y = pd.read_csv('./data/nav_demo_output.csv')"
   ]
  },
  {
   "cell_type": "code",
   "execution_count": 3,
   "id": "6bdf5602",
   "metadata": {},
   "outputs": [],
   "source": [
    "preprocessing  = asapy.Preprocessing()\n",
    "\n",
    "x = preprocessing.aliases(x)\n",
    "y = preprocessing.team_metrics(y)"
   ]
  },
  {
   "cell_type": "code",
   "execution_count": 4,
   "id": "03d10bb0",
   "metadata": {},
   "outputs": [],
   "source": [
    "df_nav = pd.merge(x, y[['fuel_consumed']], left_index=True, right_index=True)"
   ]
  },
  {
   "cell_type": "code",
   "execution_count": 5,
   "id": "3786af9d",
   "metadata": {},
   "outputs": [],
   "source": [
    "sample_nav = df_nav.sample(10)\n",
    "df_nav = df_nav.loc[~df_nav.index.isin(sample_nav.index)]"
   ]
  },
  {
   "cell_type": "code",
   "execution_count": 6,
   "id": "82089e52",
   "metadata": {},
   "outputs": [
    {
     "data": {
      "text/html": [
       "<div>\n",
       "<style scoped>\n",
       "    .dataframe tbody tr th:only-of-type {\n",
       "        vertical-align: middle;\n",
       "    }\n",
       "\n",
       "    .dataframe tbody tr th {\n",
       "        vertical-align: top;\n",
       "    }\n",
       "\n",
       "    .dataframe thead th {\n",
       "        text-align: right;\n",
       "    }\n",
       "</style>\n",
       "<table border=\"1\" class=\"dataframe\">\n",
       "  <thead>\n",
       "    <tr style=\"text-align: right;\">\n",
       "      <th></th>\n",
       "      <th>speed</th>\n",
       "      <th>altitude</th>\n",
       "      <th>fuel_consumed</th>\n",
       "    </tr>\n",
       "    <tr>\n",
       "      <th>experiment</th>\n",
       "      <th></th>\n",
       "      <th></th>\n",
       "      <th></th>\n",
       "    </tr>\n",
       "  </thead>\n",
       "  <tbody>\n",
       "    <tr>\n",
       "      <th>0</th>\n",
       "      <td>485.10</td>\n",
       "      <td>13339.30</td>\n",
       "      <td>1460.593196</td>\n",
       "    </tr>\n",
       "    <tr>\n",
       "      <th>1</th>\n",
       "      <td>518.46</td>\n",
       "      <td>34516.34</td>\n",
       "      <td>883.070714</td>\n",
       "    </tr>\n",
       "    <tr>\n",
       "      <th>2</th>\n",
       "      <td>501.61</td>\n",
       "      <td>23487.75</td>\n",
       "      <td>1063.105283</td>\n",
       "    </tr>\n",
       "    <tr>\n",
       "      <th>3</th>\n",
       "      <td>525.65</td>\n",
       "      <td>16748.43</td>\n",
       "      <td>1400.689116</td>\n",
       "    </tr>\n",
       "    <tr>\n",
       "      <th>4</th>\n",
       "      <td>438.32</td>\n",
       "      <td>21489.87</td>\n",
       "      <td>1051.047824</td>\n",
       "    </tr>\n",
       "  </tbody>\n",
       "</table>\n",
       "</div>"
      ],
      "text/plain": [
       "             speed  altitude  fuel_consumed\n",
       "experiment                                 \n",
       "0           485.10  13339.30    1460.593196\n",
       "1           518.46  34516.34     883.070714\n",
       "2           501.61  23487.75    1063.105283\n",
       "3           525.65  16748.43    1400.689116\n",
       "4           438.32  21489.87    1051.047824"
      ]
     },
     "execution_count": 6,
     "metadata": {},
     "output_type": "execute_result"
    }
   ],
   "source": [
    "df_nav.head(5)"
   ]
  },
  {
   "cell_type": "code",
   "execution_count": 7,
   "id": "6b15e1ce",
   "metadata": {},
   "outputs": [],
   "source": [
    "df_nav[\"speed_without_mean\"] = df_nav[\"speed\"] - df_nav[\"speed\"].mean()"
   ]
  },
  {
   "cell_type": "code",
   "execution_count": 8,
   "id": "330909ff",
   "metadata": {},
   "outputs": [],
   "source": [
    "df_nav[\"altitude_without_mean\"] = df_nav[\"altitude\"] - df_nav[\"altitude\"].mean()"
   ]
  },
  {
   "cell_type": "code",
   "execution_count": 9,
   "id": "badc916a",
   "metadata": {},
   "outputs": [],
   "source": [
    "df_nav[\"speed_without_mean_div_std\"] = (df_nav[\"speed\"] - df_nav[\"speed\"].mean()) / df_nav[\"speed\"].std()"
   ]
  },
  {
   "cell_type": "code",
   "execution_count": 10,
   "id": "07b8433a",
   "metadata": {},
   "outputs": [],
   "source": [
    "df_nav[\"altitude_without_mean_div_std\"] = (df_nav[\"altitude\"] - df_nav[\"altitude\"].mean()) / df_nav[\"altitude\"].std()"
   ]
  },
  {
   "cell_type": "code",
   "execution_count": 44,
   "id": "7cad6c9c",
   "metadata": {},
   "outputs": [
    {
     "data": {
      "image/png": "[encoded data removed]",
      "text/plain": [
       "<Figure size 1200x400 with 2 Axes>"
      ]
     },
     "metadata": {},
     "output_type": "display_data"
    }
   ],
   "source": [
    "import seaborn as sns\n",
    "import matplotlib.pyplot as plt\n",
    "\n",
    "# Definindo o estilo do gráfico\n",
    "sns.set(style=\"whitegrid\")\n",
    "\n",
    "# Criando uma nova figura para os boxplots\n",
    "plt.figure(figsize=(12, 4))\n",
    "\n",
    "min_value = min(df_nav[\"speed\"].min() - 500, df_nav[\"altitude\"].min() - 500)\n",
    "max_value = max(df_nav[\"speed\"].max() + 500, df_nav[\"altitude\"].max() + 500)\n",
    "\n",
    "# Criando o boxplot para altitude_without_mean_div_std\n",
    "plt.subplot(2, 1, 1)  # 1 linha, 2 colunas, posição 2\n",
    "sns.boxplot(x=df_nav[\"altitude\"])\n",
    "plt.title('Boxplot of Altitude', fontsize=12, fontweight='bold')\n",
    "plt.xlim(min_value, max_value)  # Definindo os mesmos limites para o eixo x\n",
    "plt.xlabel(\"Altitude (ft)\", fontsize=10)\n",
    "\n",
    "# Criando o boxplot para speed_without_mean_div_std\n",
    "plt.subplot(2, 1, 2)  # 1 linha, 2 colunas, posição 1\n",
    "sns.boxplot(x=df_nav[\"speed\"])\n",
    "plt.title('Boxplot of Speed', fontsize=12, fontweight='bold')\n",
    "plt.xlim(min_value, max_value)  # Definindo os mesmos limites para o eixo x\n",
    "plt.xlabel(\"Speed (knot)\", fontsize=10)\n",
    "\n",
    "# Mostrando o gráfico\n",
    "plt.tight_layout()\n",
    "\n",
    "plt.savefig('boxplot1.png')\n",
    "plt.show()"
   ]
  },
  {
   "cell_type": "code",
   "execution_count": 45,
   "id": "8ab4fac0",
   "metadata": {},
   "outputs": [
    {
     "data": {
      "image/png": "[encoded data removed]",
      "text/plain": [
       "<Figure size 1200x400 with 2 Axes>"
      ]
     },
     "metadata": {},
     "output_type": "display_data"
    }
   ],
   "source": [
    "import seaborn as sns\n",
    "import matplotlib.pyplot as plt\n",
    "\n",
    "# Definindo o estilo do gráfico\n",
    "# sns.set(style=\"whitegrid\")\n",
    "\n",
    "# Criando uma nova figura para os boxplots\n",
    "plt.figure(figsize=(12, 4))\n",
    "\n",
    "min_value = min(df_nav[\"speed_without_mean_div_std\"].min() - 0.5, df_nav[\"altitude_without_mean_div_std\"].min() - 0.5)\n",
    "max_value = max(df_nav[\"speed_without_mean_div_std\"].max() + 0.5, df_nav[\"altitude_without_mean_div_std\"].max() + 0.5)\n",
    "\n",
    "# Criando o boxplot para altitude_without_mean_div_std\n",
    "plt.subplot(2, 1, 1)  # 1 linha, 2 colunas, posição 2\n",
    "sns.boxplot(x=df_nav[\"altitude_without_mean_div_std\"])\n",
    "plt.title('Boxplot of Altitude (Standardized)', fontsize=12, fontweight='bold')\n",
    "plt.xlim(min_value, max_value)  # Definindo os mesmos limites para o eixo x\n",
    "plt.xlabel(\"Altitude (Z-Score)\", fontsize=12)\n",
    "\n",
    "# Criando o boxplot para speed_without_mean_div_std\n",
    "plt.subplot(2, 1, 2)  # 1 linha, 2 colunas, posição 1\n",
    "sns.boxplot(x=df_nav[\"speed_without_mean_div_std\"])\n",
    "plt.title('Boxplot of Speed (Standardized)', fontsize=12, fontweight='bold')\n",
    "plt.xlim(min_value, max_value)  # Definindo os mesmos limites para o eixo x\n",
    "plt.xlabel(\"Speed (Z-Score)\", fontsize=12)\n",
    "\n",
    "# Mostrando o gráfico\n",
    "plt.tight_layout()\n",
    "plt.savefig('boxplot2.png')\n",
    "plt.show()"
   ]
  },
  {
   "cell_type": "markdown",
   "id": "42a3318e",
   "metadata": {},
   "source": [
    "## EXPERIMENTO 1: Previsão do Consumo de Combustível na rota específica"
   ]
  },
  {
   "cell_type": "markdown",
   "id": "0f4cca44",
   "metadata": {},
   "source": [
    "#### Rede Neural"
   ]
  },
  {
   "cell_type": "code",
   "execution_count": null,
   "id": "a15f52a2",
   "metadata": {},
   "outputs": [],
   "source": [
    "start_time_1 = time()"
   ]
  },
  {
   "cell_type": "code",
   "execution_count": null,
   "id": "f8757fca",
   "metadata": {},
   "outputs": [],
   "source": [
    "nn_nav = asapy.NeuralNetwork(target=\"fuel_consumed\", name='demo_nn_nav', seed=25)"
   ]
  },
  {
   "cell_type": "code",
   "execution_count": null,
   "id": "ef0ca4ef",
   "metadata": {},
   "outputs": [],
   "source": [
    "nn_nav.build(\n",
    "    df_nav,\n",
    "    task=\"regression\",\n",
    "    max_cat_nunique = 10,\n",
    "    split_size = (0.7, 0.15, 0.15),\n",
    "    info=True,\n",
    "    patience_early_stopping = 20,\n",
    "    patience_reduceLR = 4,\n",
    "    metrics=['rmse']\n",
    ")"
   ]
  },
  {
   "cell_type": "code",
   "execution_count": null,
   "id": "bdde03e9",
   "metadata": {},
   "outputs": [],
   "source": [
    "nn_nav.hyperparameter_optimization(\n",
    "    n_trials=18,\n",
    "    num_folds=4,\n",
    "    info=True,\n",
    "    search_space_dropout = [0.0, 0.5],\n",
    "    search_space_layers = [2, 3, 4],\n",
    "    search_space_batch_size = [32, 64, 128],\n",
    "    search_space_optimizer = ['Adam']\n",
    ")"
   ]
  },
  {
   "cell_type": "code",
   "execution_count": null,
   "id": "81fa3f69",
   "metadata": {},
   "outputs": [],
   "source": [
    "nn_nav.fit(return_history=False, graph=True, graph_save_extension='eps', verbose=0)"
   ]
  },
  {
   "cell_type": "code",
   "execution_count": null,
   "id": "b3be64a1",
   "metadata": {},
   "outputs": [],
   "source": [
    "end_time_1 = time()"
   ]
  },
  {
   "cell_type": "code",
   "execution_count": null,
   "id": "d200c3a5",
   "metadata": {},
   "outputs": [],
   "source": [
    "start_time_2 = time()"
   ]
  },
  {
   "cell_type": "code",
   "execution_count": null,
   "id": "494bf50e",
   "metadata": {},
   "outputs": [],
   "source": [
    "pred_nn_nav = nn_nav.predict(sample_nav, verbose=0)"
   ]
  },
  {
   "cell_type": "code",
   "execution_count": null,
   "id": "d1299bb7",
   "metadata": {},
   "outputs": [],
   "source": [
    "pred_nn_nav"
   ]
  },
  {
   "cell_type": "code",
   "execution_count": null,
   "id": "25e42310",
   "metadata": {},
   "outputs": [],
   "source": [
    "end_time_2 = time()"
   ]
  },
  {
   "cell_type": "code",
   "execution_count": null,
   "id": "de57aaa7",
   "metadata": {},
   "outputs": [],
   "source": [
    "print(f\"Tempo de Treinamento: {end_time_1 - start_time_1}\")"
   ]
  },
  {
   "cell_type": "code",
   "execution_count": null,
   "id": "eec187f6",
   "metadata": {},
   "outputs": [],
   "source": [
    "print(f\"Tempo de Inferência: {end_time_2 - start_time_2}\")"
   ]
  },
  {
   "cell_type": "markdown",
   "id": "153889f4",
   "metadata": {},
   "source": [
    "#### XG Boost"
   ]
  },
  {
   "cell_type": "code",
   "execution_count": null,
   "id": "52a304a7",
   "metadata": {},
   "outputs": [],
   "source": [
    "start_time_3 = time()"
   ]
  },
  {
   "cell_type": "code",
   "execution_count": null,
   "id": "bf761f0d",
   "metadata": {},
   "outputs": [],
   "source": [
    "xgb_nav = asapy.XgBoost(target=\"fuel_consumed\", name='demo_xgb_nav', seed=25)"
   ]
  },
  {
   "cell_type": "code",
   "execution_count": null,
   "id": "6e200dce",
   "metadata": {},
   "outputs": [],
   "source": [
    "xgb_nav.build(\n",
    "    df_nav,\n",
    "    task=\"regression\",\n",
    "    num_folds=5,\n",
    "    max_cat_nunique = 10,\n",
    "    split_size = (0.7, 0.15, 0.15),\n",
    "    info=True,\n",
    "    patience_early_stopping = 20,\n",
    "    metrics=['mse']\n",
    ")"
   ]
  },
  {
   "cell_type": "code",
   "execution_count": null,
   "id": "62d387d3",
   "metadata": {},
   "outputs": [],
   "source": [
    "xgb_nav.hyperparameter_optimization(\n",
    "    n_trials=10,\n",
    "    num_folds = 5, \n",
    "    info=True,\n",
    "    search_space_tree_method = ['auto'],\n",
    "    search_space_booster = ['gbtree', 'gblinear', 'dart'],\n",
    "    search_space_learning_rate = [0.3],\n",
    "    search_space_min_split_loss = [0],\n",
    "    search_space_max_depth = [6],\n",
    "    search_space_min_child_weight = [1],\n",
    "    search_space_max_delta_step = [0],\n",
    "    search_space_subsample = [1],\n",
    "    search_space_sampling_method = ['uniform'],\n",
    "    search_space_colsample_bytree = [1],\n",
    "    search_space_colsample_bylevel = [1],\n",
    "    search_space_colsample_bynode = [1],\n",
    "    search_space_reg_lambda = [1],\n",
    "    search_space_reg_alpha = [0],\n",
    "    search_space_scale_pos_weight = [1],\n",
    "    search_space_grow_policy = ['depthwise'],\n",
    "    search_space_max_leaves = [0],\n",
    "    search_space_max_bin = [256],\n",
    "    search_space_num_parallel_tree = [1]\n",
    ")"
   ]
  },
  {
   "cell_type": "code",
   "execution_count": null,
   "id": "98d48f94",
   "metadata": {},
   "outputs": [],
   "source": [
    "history_xgb_nav = xgb_nav.fit(return_history=True, graph=True, graph_save_extension='png', verbose=0)"
   ]
  },
  {
   "cell_type": "code",
   "execution_count": null,
   "id": "ef8e7811",
   "metadata": {},
   "outputs": [],
   "source": [
    "end_time_3 = time()"
   ]
  },
  {
   "cell_type": "code",
   "execution_count": null,
   "id": "2144be04",
   "metadata": {},
   "outputs": [],
   "source": [
    "start_time_4 = time()"
   ]
  },
  {
   "cell_type": "code",
   "execution_count": null,
   "id": "1c8bdd1d",
   "metadata": {},
   "outputs": [],
   "source": [
    "pred_xgb_nav = xgb_nav.predict(sample_nav)"
   ]
  },
  {
   "cell_type": "code",
   "execution_count": null,
   "id": "e49aba36",
   "metadata": {},
   "outputs": [],
   "source": [
    "pred_xgb_nav"
   ]
  },
  {
   "cell_type": "code",
   "execution_count": null,
   "id": "d5a1318b",
   "metadata": {},
   "outputs": [],
   "source": [
    "end_time_4 = time()"
   ]
  },
  {
   "cell_type": "code",
   "execution_count": null,
   "id": "a081cbd2",
   "metadata": {},
   "outputs": [],
   "source": [
    "print(f\"Tempo de Treinamento: {end_time_3 - start_time_3}\")"
   ]
  },
  {
   "cell_type": "code",
   "execution_count": null,
   "id": "efdd16af",
   "metadata": {},
   "outputs": [],
   "source": [
    "print(f\"Tempo de Inferência: {end_time_4 - start_time_4}\")"
   ]
  },
  {
   "cell_type": "markdown",
   "id": "9c5bc7ee",
   "metadata": {},
   "source": [
    "## EXPERIMENTO 2: Segmentação de classe de Combustível na rota específica"
   ]
  },
  {
   "cell_type": "markdown",
   "id": "7a75b971",
   "metadata": {},
   "source": [
    "#### KMeans"
   ]
  },
  {
   "cell_type": "code",
   "execution_count": null,
   "id": "55dfb468",
   "metadata": {},
   "outputs": [],
   "source": [
    "start_time_5 = time()"
   ]
  },
  {
   "cell_type": "code",
   "execution_count": null,
   "id": "d5bd5675",
   "metadata": {},
   "outputs": [],
   "source": [
    "kmeans_nav = asapy.KMeans(name='demo_kmeans_nav', seed=25)"
   ]
  },
  {
   "cell_type": "code",
   "execution_count": null,
   "id": "cc09297a",
   "metadata": {},
   "outputs": [],
   "source": [
    "kmeans_nav.build(df_nav, info=True)"
   ]
  },
  {
   "cell_type": "code",
   "execution_count": null,
   "id": "817574c4",
   "metadata": {},
   "outputs": [],
   "source": [
    "kmeans_nav.hyperparameter_optimization(\n",
    "    n_trials=10,\n",
    "    info=True,\n",
    "    search_space_n_clusters=[4],\n",
    "    search_space_init  = ['k-means++'],\n",
    "    search_space_n_init = ['auto'],\n",
    "    search_space_tol = [1e-5, 1e-4, 1e-3],\n",
    "    search_space_algorithm = ['lloyd', 'elkan']\n",
    ")"
   ]
  },
  {
   "cell_type": "code",
   "execution_count": null,
   "id": "618acb1e",
   "metadata": {},
   "outputs": [],
   "source": [
    "clusters = kmeans_nav.fit(return_cluster=True)"
   ]
  },
  {
   "cell_type": "code",
   "execution_count": null,
   "id": "445f967d",
   "metadata": {},
   "outputs": [],
   "source": [
    "kmeans_nav.predict(projection='2d', graph_save_extension='png')"
   ]
  },
  {
   "cell_type": "code",
   "execution_count": null,
   "id": "34f3dfac",
   "metadata": {},
   "outputs": [],
   "source": [
    "kmeans_nav.predict(projection='3d', graph_save_extension='png')"
   ]
  },
  {
   "cell_type": "code",
   "execution_count": null,
   "id": "9b4dc65b",
   "metadata": {},
   "outputs": [],
   "source": [
    "end_time_5 = time()"
   ]
  },
  {
   "cell_type": "code",
   "execution_count": null,
   "id": "f3c14ae7",
   "metadata": {},
   "outputs": [],
   "source": [
    "print(f\"Tempo de Treinamento: {end_time_5 - start_time_5}\")"
   ]
  },
  {
   "cell_type": "markdown",
   "id": "967b8796",
   "metadata": {},
   "source": [
    "## EXPERIMENTO 3: Previsão da classe de Consumo de Combustível na rota específica"
   ]
  },
  {
   "cell_type": "markdown",
   "id": "1591b68c",
   "metadata": {},
   "source": [
    "#### Data leak intencional, com o intuito de criar um Case de classificação. Asuma que a nfomação do cluster seja obtida de observação factual"
   ]
  },
  {
   "cell_type": "code",
   "execution_count": null,
   "id": "eb16c772",
   "metadata": {},
   "outputs": [],
   "source": [
    "df_nav_class = df_nav.copy()\n",
    "df_nav_class['Cluster'] = clusters"
   ]
  },
  {
   "cell_type": "code",
   "execution_count": null,
   "id": "8bd01afe",
   "metadata": {},
   "outputs": [],
   "source": [
    "# plt.style.use('seaborn-darkgrid')  # Usa um estilo de fundo do Seaborn\n",
    "# plt.figure(figsize=(10, 6))  # Tamanho do gráfico\n",
    "\n",
    "class_counts = df_nav_class['Cluster'].value_counts().sort_index()\n",
    "\n",
    "bars = plt.bar(class_counts.index, class_counts.values, color='skyblue', edgecolor='black')\n",
    "\n",
    "plt.title('Balanceamento das Classes', fontsize=16, fontweight='bold')\n",
    "plt.xlabel('Classes', fontsize=14)\n",
    "plt.ylabel('Número de Instâncias', fontsize=14)\n",
    "\n",
    "plt.xticks(class_counts.index, fontsize=12)\n",
    "plt.yticks(fontsize=12)\n",
    "\n",
    "plt.grid(axis='y', linestyle='--', alpha=0.7)\n",
    "\n",
    "for bar in bars:\n",
    "    yval = bar.get_height()\n",
    "    plt.text(bar.get_x() + bar.get_width()/2, yval + 1, int(yval), ha='center', va='bottom', fontsize=12)\n",
    "\n",
    "plt.tight_layout()\n",
    "plt.show()"
   ]
  },
  {
   "cell_type": "code",
   "execution_count": null,
   "id": "4e839bce",
   "metadata": {},
   "outputs": [],
   "source": [
    "# !pip install imblearn"
   ]
  },
  {
   "cell_type": "code",
   "execution_count": null,
   "id": "cce450e2",
   "metadata": {},
   "outputs": [],
   "source": [
    "from imblearn.over_sampling import SMOTE\n",
    "from collections import Counter\n",
    "\n",
    "sm = SMOTE(random_state=42)\n",
    "X = df_nav_class.drop('Cluster', axis=1)\n",
    "y = df_nav_class['Cluster']\n",
    "\n",
    "X_res, y_res = sm.fit_resample(X, y)\n",
    "\n",
    "# Se precisar, converta de volta para DataFrame pandas\n",
    "df_nav_class = pd.DataFrame(X_res, columns=X.columns)\n",
    "df_nav_class['Cluster'] = y_res"
   ]
  },
  {
   "cell_type": "code",
   "execution_count": null,
   "id": "05e2097b",
   "metadata": {},
   "outputs": [],
   "source": [
    "# plt.style.use('seaborn-darkgrid')  # Usa um estilo de fundo do Seaborn\n",
    "# plt.figure(figsize=(10, 6))  # Tamanho do gráfico\n",
    "\n",
    "class_counts = df_nav_class['Cluster'].value_counts().sort_index()\n",
    "\n",
    "bars = plt.bar(class_counts.index, class_counts.values, color='skyblue', edgecolor='black')\n",
    "\n",
    "plt.title('Balanceamento das Classes', fontsize=16, fontweight='bold')\n",
    "plt.xlabel('Classes', fontsize=14)\n",
    "plt.ylabel('Número de Instâncias', fontsize=14)\n",
    "\n",
    "plt.xticks(class_counts.index, fontsize=12)\n",
    "plt.yticks(fontsize=12)\n",
    "\n",
    "plt.grid(axis='y', linestyle='--', alpha=0.7)\n",
    "\n",
    "for bar in bars:\n",
    "    yval = bar.get_height()\n",
    "    plt.text(bar.get_x() + bar.get_width()/2, yval + 1, int(yval), ha='center', va='bottom', fontsize=12)\n",
    "\n",
    "plt.tight_layout()\n",
    "plt.show()"
   ]
  },
  {
   "cell_type": "code",
   "execution_count": null,
   "id": "d00342c3",
   "metadata": {},
   "outputs": [],
   "source": [
    "sample_nav_class = df_nav_class.sample(10)\n",
    "df_nav_class = df_nav_class.loc[~df_nav_class.index.isin(sample_nav_class.index)]"
   ]
  },
  {
   "cell_type": "markdown",
   "id": "9cd2d183",
   "metadata": {},
   "source": [
    "#### Rede Neural"
   ]
  },
  {
   "cell_type": "code",
   "execution_count": null,
   "id": "f66731b6",
   "metadata": {},
   "outputs": [],
   "source": [
    "start_time_6 = time()"
   ]
  },
  {
   "cell_type": "code",
   "execution_count": null,
   "id": "1f0d67df",
   "metadata": {},
   "outputs": [],
   "source": [
    "nn_nav_class = asapy.NeuralNetwork(target=\"Cluster\", name='demo_nn_nav_class', seed=25)"
   ]
  },
  {
   "cell_type": "code",
   "execution_count": null,
   "id": "a6ceb85b",
   "metadata": {},
   "outputs": [],
   "source": [
    "nn_nav_class.build(\n",
    "    df_nav_class,\n",
    "    task='classification',\n",
    "    max_cat_nunique = 10,\n",
    "    split_size = (0.7, 0.15, 0.15),\n",
    "    info=True,\n",
    "    patience_early_stopping = 20,\n",
    "    patience_reduceLR = 4,\n",
    "    metrics=['auc', 'precision', 'recall', 'accuracy'] \n",
    ")"
   ]
  },
  {
   "cell_type": "code",
   "execution_count": null,
   "id": "752ae14b",
   "metadata": {},
   "outputs": [],
   "source": [
    "nn_nav_class.hyperparameter_optimization(\n",
    "    n_trials=10,\n",
    "    num_folds=5,\n",
    "    info=True,\n",
    "    search_space_dropout = [0.0, 0.5],\n",
    "    search_space_layers = [2, 3, 4],\n",
    "    search_space_batch_size = [32, 64],\n",
    "    search_space_optimizer = ['Adam']\n",
    ")"
   ]
  },
  {
   "cell_type": "code",
   "execution_count": null,
   "id": "593964c5",
   "metadata": {},
   "outputs": [],
   "source": [
    "history_nn_nav_class = nn_nav_class.fit(return_history=True, graph=True, graph_save_extension='png', verbose=0)"
   ]
  },
  {
   "cell_type": "code",
   "execution_count": null,
   "id": "81a763ee",
   "metadata": {},
   "outputs": [],
   "source": [
    "end_time_6 = time()"
   ]
  },
  {
   "cell_type": "code",
   "execution_count": null,
   "id": "b954a99a",
   "metadata": {},
   "outputs": [],
   "source": [
    "start_time_7 = time()"
   ]
  },
  {
   "cell_type": "code",
   "execution_count": null,
   "id": "2f0fb9fc",
   "metadata": {},
   "outputs": [],
   "source": [
    "pred_nn_nav_class = nn_nav_class.predict(sample_nav_class, verbose=0)"
   ]
  },
  {
   "cell_type": "code",
   "execution_count": null,
   "id": "426adb19",
   "metadata": {},
   "outputs": [],
   "source": [
    "pred_nn_nav_class"
   ]
  },
  {
   "cell_type": "code",
   "execution_count": null,
   "id": "9db942d9",
   "metadata": {},
   "outputs": [],
   "source": [
    "end_time_7 = time()"
   ]
  },
  {
   "cell_type": "code",
   "execution_count": null,
   "id": "a2da0d19",
   "metadata": {},
   "outputs": [],
   "source": [
    "print(f\"Tempo de Treinamento: {end_time_6 - start_time_6}\")"
   ]
  },
  {
   "cell_type": "code",
   "execution_count": null,
   "id": "9d0d3074",
   "metadata": {},
   "outputs": [],
   "source": [
    "print(f\"Tempo de Inferência: {end_time_7 - start_time_7}\")"
   ]
  },
  {
   "cell_type": "markdown",
   "id": "3bbe3783",
   "metadata": {},
   "source": [
    "#### XG Boost"
   ]
  },
  {
   "cell_type": "code",
   "execution_count": null,
   "id": "10af108d",
   "metadata": {},
   "outputs": [],
   "source": [
    "start_time_8 = time()"
   ]
  },
  {
   "cell_type": "code",
   "execution_count": null,
   "id": "f067898f",
   "metadata": {},
   "outputs": [],
   "source": [
    "xgb_nav_class = asapy.XgBoost(target=\"Cluster\", name='demo_xgb_nav_class', seed=25)"
   ]
  },
  {
   "cell_type": "code",
   "execution_count": null,
   "id": "3a23eb83",
   "metadata": {},
   "outputs": [],
   "source": [
    "xgb_nav_class.build(\n",
    "    df_nav_class,\n",
    "    task='classification',\n",
    "    max_cat_nunique = 10,\n",
    "    split_size = (0.7, 0.15, 0.15),\n",
    "    info=True,\n",
    "    patience_early_stopping = 20\n",
    ")"
   ]
  },
  {
   "cell_type": "code",
   "execution_count": null,
   "id": "a3d7b178",
   "metadata": {},
   "outputs": [],
   "source": [
    "xgb_nav_class.hyperparameter_optimization(\n",
    "    n_trials=10,\n",
    "    num_folds=5,\n",
    "    info=True,\n",
    "    search_space_tree_method = ['auto'],\n",
    "    search_space_booster = ['gbtree', 'gblinear', 'dart'],\n",
    "    search_space_learning_rate = [0.2, 0.3],\n",
    "    search_space_min_split_loss = [0],\n",
    "    search_space_max_depth = [5, 6, 7],\n",
    "    search_space_min_child_weight = [1],\n",
    "    search_space_max_delta_step = [0],\n",
    "    search_space_subsample = [1],\n",
    "    search_space_sampling_method = ['uniform'],\n",
    "    search_space_colsample_bytree = [1],\n",
    "    search_space_colsample_bylevel = [1],\n",
    "    search_space_colsample_bynode = [1],\n",
    "    search_space_reg_lambda = [1],\n",
    "    search_space_reg_alpha = [0],\n",
    "    search_space_scale_pos_weight = [1],\n",
    "    search_space_grow_policy = ['depthwise'],\n",
    "    search_space_max_leaves = [0],\n",
    "    search_space_max_bin = [256, 512],\n",
    "    search_space_num_parallel_tree = [1]\n",
    ")"
   ]
  },
  {
   "cell_type": "code",
   "execution_count": null,
   "id": "3a3bebdd",
   "metadata": {},
   "outputs": [],
   "source": [
    "history_xgb_nav_class = xgb_nav_class.fit(return_history=True, graph=True, graph_save_extension='png', verbose=0)"
   ]
  },
  {
   "cell_type": "code",
   "execution_count": null,
   "id": "000ab710",
   "metadata": {},
   "outputs": [],
   "source": [
    "end_time_8 = time()"
   ]
  },
  {
   "cell_type": "code",
   "execution_count": null,
   "id": "4222f12e",
   "metadata": {},
   "outputs": [],
   "source": [
    "start_time_9 = time()"
   ]
  },
  {
   "cell_type": "code",
   "execution_count": null,
   "id": "22bab04e",
   "metadata": {},
   "outputs": [],
   "source": [
    "pred_xgb_nav_class = xgb_nav_class.predict(sample_nav_class)"
   ]
  },
  {
   "cell_type": "code",
   "execution_count": null,
   "id": "6da102e2",
   "metadata": {},
   "outputs": [],
   "source": [
    "pred_xgb_nav_class"
   ]
  },
  {
   "cell_type": "code",
   "execution_count": null,
   "id": "14fd4ebd",
   "metadata": {},
   "outputs": [],
   "source": [
    "end_time_9 = time()"
   ]
  },
  {
   "cell_type": "code",
   "execution_count": null,
   "id": "e7e6681b",
   "metadata": {},
   "outputs": [],
   "source": [
    "print(f\"Tempo de Treinamento: {end_time_8 - start_time_8}\")"
   ]
  },
  {
   "cell_type": "code",
   "execution_count": null,
   "id": "bf486b95",
   "metadata": {},
   "outputs": [],
   "source": [
    "print(f\"Tempo de Inferência: {end_time_9 - start_time_9}\")"
   ]
  }
 ],
 "metadata": {
  "kernelspec": {
   "display_name": "Python 3 (ipykernel)",
   "language": "python",
   "name": "python3"
  },
  "language_info": {
   "codemirror_mode": {
    "name": "ipython",
    "version": 3
   },
   "file_extension": ".py",
   "mimetype": "text/x-python",
   "name": "python",
   "nbconvert_exporter": "python",
   "pygments_lexer": "ipython3",
   "version": "3.9.0"
  }
 },
 "nbformat": 4,
 "nbformat_minor": 5
}
